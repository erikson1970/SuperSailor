{
 "cells": [
  {
   "cell_type": "markdown",
   "metadata": {},
   "source": [
    "<table style=\"width:100%\">\n",
    "  <tr>\n",
    "    <th><img src=\"https://www.panbo.com/images/WindVectors2d5.jpg\" alt=\"Wind Vectors\" style=\"width: 500px;\"/></th>\n",
    "    <th><img src=\"./SailingVectors1.png\" style=\"width: 300px;\"/></th> \n",
    "  </tr>\n",
    "</table>  \n",
    "\n",
    "\n",
    "  - GW=TW+SD\n",
    "  - TW=AW+VB\n",
    "  - OG=VB+SD\n",
    "\n"
   ]
  },
  {
   "cell_type": "code",
   "execution_count": null,
   "metadata": {},
   "outputs": [],
   "source": [
    "def unit_vector(vector):\n",
    "        \"\"\" Returns the unit vector of the vector.  \"\"\"\n",
    "        return vector / np.linalg.norm(vector)\n",
    "\n",
    "def angle_between(v1, v2):\n",
    "    \"\"\" Returns the angle in radians between vectors 'v1' and 'v2'::\n",
    "\n",
    "            >>> angle_between((1, 0, 0), (0, 1, 0))\n",
    "            1.5707963267948966\n",
    "            >>> angle_between((1, 0, 0), (1, 0, 0))\n",
    "            0.0\n",
    "            >>> angle_between((1, 0, 0), (-1, 0, 0))\n",
    "            3.141592653589793\n",
    "    \"\"\"\n",
    "    v1_u = self.unit_vector(v1)\n",
    "    v2_u = self.unit_vector(v2)\n",
    "    return np.arccos(np.clip(np.dot(v1_u, v2_u), -1.0, 1.0))"
   ]
  },
  {
   "cell_type": "code",
   "execution_count": 48,
   "metadata": {},
   "outputs": [
    {
     "data": {
      "text/latex": [
       "$$\\left [ \\left[\\begin{matrix}GWu - SDu\\\\GWv - SDv\\end{matrix}\\right] = \\left[\\begin{matrix}TWu\\\\TWv\\end{matrix}\\right], \\quad \\left[\\begin{matrix}SOG \\cos{\\left (COG \\right )}\\\\SOG \\sin{\\left (COG \\right )}\\end{matrix}\\right] = \\left[\\begin{matrix}SDu + \\operatorname{VB}{\\left (TWu,TWv,HDG \\right )} \\cos{\\left (HDG \\right )}\\\\SDv + \\operatorname{VB}{\\left (TWu,TWv,HDG \\right )} \\sin{\\left (HDG \\right )}\\end{matrix}\\right]\\right ]$$"
      ],
      "text/plain": [
       "⎡⎡GWu - SDu⎤ = ⎡TWu⎤, ⎡SOG⋅cos(COG)⎤ = ⎡SDu + VB(TWu, TWv, HDG)⋅cos(HDG)⎤⎤\n",
       "⎢⎢         ⎥   ⎢   ⎥  ⎢            ⎥   ⎢                                ⎥⎥\n",
       "⎣⎣GWv - SDv⎦   ⎣TWv⎦  ⎣SOG⋅sin(COG)⎦   ⎣SDv + VB(TWu, TWv, HDG)⋅sin(HDG)⎦⎦"
      ]
     },
     "execution_count": 48,
     "metadata": {},
     "output_type": "execute_result"
    }
   ],
   "source": [
    "import sympy as sp\n",
    "sp.init_printing()\n",
    "GWu,GWv,TWu,TWv,SDu,SDv,AWu,AWv=sp.var('GWu GWv TWu TWv SDu SDv AWu AWv')\n",
    "HDG,SOG,COG,VBB=sp.var('HDG SOG COG VBB')\n",
    "GW = sp.Matrix([GWu,GWv])\n",
    "TW = sp.Matrix([TWu,TWv])\n",
    "SD = sp.Matrix([SDu,SDv])\n",
    "BV = sp.Matrix([SDu,SDv])\n",
    "#AW = sp.Matrix([AWu,AWv])\n",
    "VB=sp.Function('VB')(TWu,TWv,HDG)\n",
    "BV = VB*sp.Matrix([sp.cos(HDG),sp.sin(HDG)])\n",
    "OG = SOG*sp.Matrix([sp.cos(COG),sp.sin(COG)])\n",
    "eq1=sp.Eq(GW-SD,TW)\n",
    "eq2=sp.Eq(OG,BV+SD)\n",
    "#eq3=sp.Eq()\n",
    "sys1=[eq1,eq2]\n",
    "sys1"
   ]
  },
  {
   "cell_type": "code",
   "execution_count": 49,
   "metadata": {},
   "outputs": [
    {
     "ename": "NotImplementedError",
     "evalue": "could not solve -SDv + (SDu + VB(TWu, TWv, HDG)*cos(HDG))*sin(COG)/cos(COG) - VB(TWu, TWv, HDG)*sin(HDG)",
     "output_type": "error",
     "traceback": [
      "\u001b[0;31m---------------------------------------------------------------------------\u001b[0m",
      "\u001b[0;31mNotImplementedError\u001b[0m                       Traceback (most recent call last)",
      "\u001b[0;32m<ipython-input-49-5146d6ea301e>\u001b[0m in \u001b[0;36m<module>\u001b[0;34m()\u001b[0m\n\u001b[0;32m----> 1\u001b[0;31m \u001b[0msp\u001b[0m\u001b[0;34m.\u001b[0m\u001b[0msolve\u001b[0m\u001b[0;34m(\u001b[0m\u001b[0msys1\u001b[0m\u001b[0;34m,\u001b[0m\u001b[0;34m[\u001b[0m\u001b[0mHDG\u001b[0m\u001b[0;34m,\u001b[0m\u001b[0mSOG\u001b[0m\u001b[0;34m]\u001b[0m\u001b[0;34m)\u001b[0m\u001b[0;34m\u001b[0m\u001b[0m\n\u001b[0m",
      "\u001b[0;32m/Users/leif/anaconda2/lib/python2.7/site-packages/sympy/solvers/solvers.pyc\u001b[0m in \u001b[0;36msolve\u001b[0;34m(f, *symbols, **flags)\u001b[0m\n\u001b[1;32m   1053\u001b[0m         \u001b[0msolution\u001b[0m \u001b[0;34m=\u001b[0m \u001b[0m_solve\u001b[0m\u001b[0;34m(\u001b[0m\u001b[0mf\u001b[0m\u001b[0;34m[\u001b[0m\u001b[0;36m0\u001b[0m\u001b[0;34m]\u001b[0m\u001b[0;34m,\u001b[0m \u001b[0;34m*\u001b[0m\u001b[0msymbols\u001b[0m\u001b[0;34m,\u001b[0m \u001b[0;34m**\u001b[0m\u001b[0mflags\u001b[0m\u001b[0;34m)\u001b[0m\u001b[0;34m\u001b[0m\u001b[0m\n\u001b[1;32m   1054\u001b[0m     \u001b[0;32melse\u001b[0m\u001b[0;34m:\u001b[0m\u001b[0;34m\u001b[0m\u001b[0m\n\u001b[0;32m-> 1055\u001b[0;31m         \u001b[0msolution\u001b[0m \u001b[0;34m=\u001b[0m \u001b[0m_solve_system\u001b[0m\u001b[0;34m(\u001b[0m\u001b[0mf\u001b[0m\u001b[0;34m,\u001b[0m \u001b[0msymbols\u001b[0m\u001b[0;34m,\u001b[0m \u001b[0;34m**\u001b[0m\u001b[0mflags\u001b[0m\u001b[0;34m)\u001b[0m\u001b[0;34m\u001b[0m\u001b[0m\n\u001b[0m\u001b[1;32m   1056\u001b[0m \u001b[0;34m\u001b[0m\u001b[0m\n\u001b[1;32m   1057\u001b[0m     \u001b[0;31m#\u001b[0m\u001b[0;34m\u001b[0m\u001b[0;34m\u001b[0m\u001b[0m\n",
      "\u001b[0;32m/Users/leif/anaconda2/lib/python2.7/site-packages/sympy/solvers/solvers.pyc\u001b[0m in \u001b[0;36m_solve_system\u001b[0;34m(exprs, symbols, **flags)\u001b[0m\n\u001b[1;32m   1812\u001b[0m                     \u001b[0mgot_s\u001b[0m\u001b[0;34m.\u001b[0m\u001b[0madd\u001b[0m\u001b[0;34m(\u001b[0m\u001b[0ms\u001b[0m\u001b[0;34m)\u001b[0m\u001b[0;34m\u001b[0m\u001b[0m\n\u001b[1;32m   1813\u001b[0m                 \u001b[0;32mif\u001b[0m \u001b[0;32mnot\u001b[0m \u001b[0mhit\u001b[0m\u001b[0;34m:\u001b[0m\u001b[0;34m\u001b[0m\u001b[0m\n\u001b[0;32m-> 1814\u001b[0;31m                     \u001b[0;32mraise\u001b[0m \u001b[0mNotImplementedError\u001b[0m\u001b[0;34m(\u001b[0m\u001b[0;34m'could not solve %s'\u001b[0m \u001b[0;34m%\u001b[0m \u001b[0meq2\u001b[0m\u001b[0;34m)\u001b[0m\u001b[0;34m\u001b[0m\u001b[0m\n\u001b[0m\u001b[1;32m   1815\u001b[0m             \u001b[0;32melse\u001b[0m\u001b[0;34m:\u001b[0m\u001b[0;34m\u001b[0m\u001b[0m\n\u001b[1;32m   1816\u001b[0m                 \u001b[0mresult\u001b[0m \u001b[0;34m=\u001b[0m \u001b[0mnewresult\u001b[0m\u001b[0;34m\u001b[0m\u001b[0m\n",
      "\u001b[0;31mNotImplementedError\u001b[0m: could not solve -SDv + (SDu + VB(TWu, TWv, HDG)*cos(HDG))*sin(COG)/cos(COG) - VB(TWu, TWv, HDG)*sin(HDG)"
     ]
    }
   ],
   "source": [
    "#GOAL: MAXIMIZE SOG\n",
    "#    IF |cos(COG)| > 0.2:\n",
    "#        MAXIMIZE[ SOG=(SDu+VB(TWu,TWv,HDG)cos(HDG))/cos(COG), HDG]\n",
    "#    ELSE:\n",
    "#        MAXIMIZE[ SOG=(SDu+VB(TWu,TWv,HDG)sin(HDG))/sin(COG), HDG]\n"
   ]
  },
  {
   "cell_type": "code",
   "execution_count": 7,
   "metadata": {},
   "outputs": [
    {
     "data": {
      "image/png": "[encoded data removed]",
      "text/latex": [
       "$$63.4349488229$$"
      ],
      "text/plain": [
       "63.4349488229"
      ]
     },
     "execution_count": 7,
     "metadata": {},
     "output_type": "execute_result"
    }
   ],
   "source": [
    "import numpy as np\n",
    "from math import atan2\n",
    "atan2(2,1)*180./np.pi"
   ]
  },
  {
   "cell_type": "code",
   "execution_count": 44,
   "metadata": {},
   "outputs": [],
   "source": [
    "del(AW)"
   ]
  },
  {
   "cell_type": "code",
   "execution_count": 5,
   "metadata": {
    "collapsed": true
   },
   "outputs": [],
   "source": [
    "import math\n",
    "math.atan2"
   ]
  },
  {
   "cell_type": "code",
   "execution_count": null,
   "metadata": {
    "collapsed": true
   },
   "outputs": [],
   "source": []
  }
 ],
 "metadata": {
  "kernelspec": {
   "display_name": "Python [default]",
   "language": "python",
   "name": "python2"
  },
  "language_info": {
   "codemirror_mode": {
    "name": "ipython",
    "version": 2
   },
   "file_extension": ".py",
   "mimetype": "text/x-python",
   "name": "python",
   "nbconvert_exporter": "python",
   "pygments_lexer": "ipython2",
   "version": "2.7.13"
  }
 },
 "nbformat": 4,
 "nbformat_minor": 2
}
